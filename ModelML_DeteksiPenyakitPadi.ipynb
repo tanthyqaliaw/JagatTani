{
  "cells": [
    {
      "cell_type": "code",
      "execution_count": null,
      "id": "6e60849d-ea4f-42e0-bb11-3888e2b22b30",
      "metadata": {
        "id": "6e60849d-ea4f-42e0-bb11-3888e2b22b30"
      },
      "outputs": [],
      "source": [
        "import os\n",
        "import pandas as pd\n",
        "import numpy as np\n",
        "from tensorflow.keras.preprocessing.image import ImageDataGenerator\n",
        "import shutil\n"
      ]
    },
    {
      "cell_type": "code",
      "execution_count": null,
      "id": "dfbd0344-8e12-45b2-b604-abd9b22772b3",
      "metadata": {
        "id": "dfbd0344-8e12-45b2-b604-abd9b22772b3"
      },
      "outputs": [],
      "source": [
        "import random"
      ]
    },
    {
      "cell_type": "code",
      "execution_count": null,
      "id": "aa83fd3a-916d-4bbb-a97d-82b9a1a35b5a",
      "metadata": {
        "id": "aa83fd3a-916d-4bbb-a97d-82b9a1a35b5a"
      },
      "outputs": [],
      "source": [
        "import tensorflow as tf"
      ]
    },
    {
      "cell_type": "code",
      "execution_count": null,
      "id": "0534859a-db3e-4221-9166-483696b56dd5",
      "metadata": {
        "id": "0534859a-db3e-4221-9166-483696b56dd5"
      },
      "outputs": [],
      "source": [
        "# Tentukan path ke folder Anda\n",
        "folder_gambar = './GabunganDatasetRiceDisease'"
      ]
    },
    {
      "cell_type": "code",
      "execution_count": null,
      "id": "ac8e24bd-6290-4e24-86bf-a1adeb4b339b",
      "metadata": {
        "id": "ac8e24bd-6290-4e24-86bf-a1adeb4b339b"
      },
      "outputs": [],
      "source": [
        "tes_set = './Test_set'"
      ]
    },
    {
      "cell_type": "code",
      "execution_count": null,
      "id": "51cc2cee-362c-4f06-8a6d-fea91d6de1a9",
      "metadata": {
        "id": "51cc2cee-362c-4f06-8a6d-fea91d6de1a9"
      },
      "outputs": [],
      "source": [
        "persentase_uji = 0.20"
      ]
    },
    {
      "cell_type": "code",
      "execution_count": null,
      "id": "5a0eb668-13b7-4544-82a9-761329a4e027",
      "metadata": {
        "id": "5a0eb668-13b7-4544-82a9-761329a4e027",
        "outputId": "1b692cf0-7ddd-4f9e-dc8c-4e3ec72a2a37"
      },
      "outputs": [
        {
          "name": "stdout",
          "output_type": "stream",
          "text": [
            "2.10.1\n"
          ]
        }
      ],
      "source": [
        "print(tf.__version__)"
      ]
    },
    {
      "cell_type": "code",
      "execution_count": null,
      "id": "4c3c934f-2d79-4c1b-924a-3d94ade56982",
      "metadata": {
        "id": "4c3c934f-2d79-4c1b-924a-3d94ade56982",
        "outputId": "65cb84dc-2eff-43f3-d93f-de2b24bc40a9"
      },
      "outputs": [
        {
          "name": "stdout",
          "output_type": "stream",
          "text": [
            "Folder pengujian './Test_set' sudah ada.\n",
            "\n",
            "Memproses kelas: BacterialeafBlight...\n",
            "Selesai! 324 file dipindahkan ke './Test_set\\BacterialeafBlight'\n",
            "\n",
            "Memproses kelas: Blast...\n",
            "Selesai! 443 file dipindahkan ke './Test_set\\Blast'\n",
            "\n",
            "Memproses kelas: Brownspot...\n",
            "Selesai! 432 file dipindahkan ke './Test_set\\Brownspot'\n",
            "\n",
            "Memproses kelas: Hispa...\n",
            "Selesai! 113 file dipindahkan ke './Test_set\\Hispa'\n",
            "\n",
            "Memproses kelas: LeafSmut...\n",
            "Selesai! 8 file dipindahkan ke './Test_set\\LeafSmut'\n",
            "\n",
            "Memproses kelas: Tungro...\n",
            "Selesai! 261 file dipindahkan ke './Test_set\\Tungro'\n"
          ]
        }
      ],
      "source": [
        "#mengambil 20 persen data di folder_gambar untuk dijadikan test set\n",
        "#cukup dilakukan sekali saja\n",
        "\n",
        "if not os.path.exists(tes_set):\n",
        "    os.makedirs(tes_set)\n",
        "    print(f\"Folder pengujian '{tes_set}' berhasil dibuat.\")\n",
        "else:\n",
        "    print(f\"Folder pengujian '{tes_set}' sudah ada.\")\n",
        "\n",
        "for nama_kelas in os.listdir(folder_gambar):\n",
        "    path_kelas = os.path.join(folder_gambar, nama_kelas)\n",
        "\n",
        "    if os.path.isdir(path_kelas):\n",
        "        print(f\"\\nMemproses kelas: {nama_kelas}...\")\n",
        "\n",
        "        files_kelas = [f for f in os.listdir(path_kelas) if os.path.isfile(os.path.join(path_kelas, f))]\n",
        "\n",
        "        jumlah_file_dipindah = int(len(files_kelas) * persentase_uji)\n",
        "\n",
        "        files_untuk_uji = random.sample(files_kelas, jumlah_file_dipindah)\n",
        "\n",
        "        # Buat sub-folder kelas di dalam folder uji\n",
        "        path_kelas_uji = os.path.join(tes_set, nama_kelas)\n",
        "        if not os.path.exists(path_kelas_uji):\n",
        "            os.makedirs(path_kelas_uji)\n",
        "\n",
        "        # Pindahkan file ke folder uji\n",
        "        for file_nama in files_untuk_uji:\n",
        "            path_file_asli = os.path.join(path_kelas, file_nama)\n",
        "            path_file_tujuan = os.path.join(path_kelas_uji, file_nama)\n",
        "            shutil.move(path_file_asli, path_file_tujuan)\n",
        "\n",
        "        print(f\"Selesai! {len(files_untuk_uji)} file dipindahkan ke '{path_kelas_uji}'\")\n"
      ]
    },
    {
      "cell_type": "code",
      "execution_count": null,
      "id": "e1d9c129-c52c-4666-8de3-a824150b4c87",
      "metadata": {
        "id": "e1d9c129-c52c-4666-8de3-a824150b4c87",
        "outputId": "63124cbc-504e-491f-a8c4-ae23d8aefb09"
      },
      "outputs": [
        {
          "name": "stdout",
          "output_type": "stream",
          "text": [
            "[PhysicalDevice(name='/physical_device:GPU:0', device_type='GPU')]\n"
          ]
        }
      ],
      "source": [
        "print(tf.config.list_physical_devices('GPU'))"
      ]
    },
    {
      "cell_type": "code",
      "execution_count": null,
      "id": "ecc9f1f7-67a6-4523-a2c3-33fbac1d4a8b",
      "metadata": {
        "id": "ecc9f1f7-67a6-4523-a2c3-33fbac1d4a8b"
      },
      "outputs": [],
      "source": [
        "# Inisialisasi data generator train dan test set\n",
        "train_datagen = ImageDataGenerator(\n",
        "    rescale=1./255,\n",
        "    rotation_range=20,\n",
        "    horizontal_flip=True,\n",
        "    shear_range = 0.2,\n",
        "    fill_mode = 'nearest'\n",
        ")\n",
        "\n",
        "test_datagen = ImageDataGenerator(\n",
        "                    rescale=1./255)\n",
        "#"
      ]
    },
    {
      "cell_type": "code",
      "execution_count": null,
      "id": "1a615dea-0da1-46c0-a5e4-0a273dce6d3d",
      "metadata": {
        "id": "1a615dea-0da1-46c0-a5e4-0a273dce6d3d",
        "outputId": "7a8629c2-a523-44bb-b742-633f94ec14b3"
      },
      "outputs": [
        {
          "name": "stdout",
          "output_type": "stream",
          "text": [
            "Found 6338 images belonging to 6 classes.\n",
            "Found 1581 images belonging to 6 classes.\n"
          ]
        }
      ],
      "source": [
        "\n",
        "train_generator = train_datagen.flow_from_directory(\n",
        "    folder_gambar,\n",
        "    target_size=(300, 300),\n",
        "    batch_size=32,\n",
        "    class_mode='categorical',\n",
        "    subset='training'\n",
        ")\n",
        "\n",
        "validation_generator = test_datagen.flow_from_directory(\n",
        "    tes_set,\n",
        "    target_size=(300, 300),\n",
        "    batch_size=32,\n",
        "    class_mode='categorical'\n",
        ")"
      ]
    },
    {
      "cell_type": "code",
      "execution_count": null,
      "id": "f4f57f73-b7c6-4e03-92e7-6130c95a171c",
      "metadata": {
        "id": "f4f57f73-b7c6-4e03-92e7-6130c95a171c"
      },
      "outputs": [],
      "source": [
        ""
      ]
    }
  ],
  "metadata": {
    "kernelspec": {
      "display_name": "Python 3 (ipykernel)",
      "language": "python",
      "name": "python3"
    },
    "language_info": {
      "codemirror_mode": {
        "name": "ipython",
        "version": 3
      },
      "file_extension": ".py",
      "mimetype": "text/x-python",
      "name": "python",
      "nbconvert_exporter": "python",
      "pygments_lexer": "ipython3",
      "version": "3.10.18"
    },
    "colab": {
      "provenance": []
    }
  },
  "nbformat": 4,
  "nbformat_minor": 5
}